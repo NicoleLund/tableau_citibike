{
 "cells": [
  {
   "cell_type": "markdown",
   "source": [
    "# combine_files\r\n",
    "----\r\n",
    "\r\n",
    "Written in the Python 3.7.9 Environment\r\n",
    "\r\n",
    "By Nicole Lund \r\n",
    "\r\n",
    "This Jupyter Notebook combines CitiBike trip data into a single file."
   ],
   "metadata": {}
  },
  {
   "cell_type": "code",
   "execution_count": 1,
   "source": [
    "# Import dependencies\r\n",
    "import pandas as pd\r\n",
    "import os"
   ],
   "outputs": [],
   "metadata": {}
  },
  {
   "cell_type": "code",
   "execution_count": 2,
   "source": [
    "# Get list of files in the folder\r\n",
    "file_list = os.listdir()"
   ],
   "outputs": [],
   "metadata": {}
  },
  {
   "cell_type": "code",
   "execution_count": 3,
   "source": [
    "# Read all files\r\n",
    "# Collect header and first row of data for all csv files\r\n",
    "combined_df = pd.DataFrame()\r\n",
    "\r\n",
    "for file in file_list:\r\n",
    "    if file[-3:] == \"csv\":\r\n",
    "        csv_df = pd.read_csv(file)\r\n",
    "        csv_df['filename'] = file\r\n",
    "        if (combined_df.size == 0):\r\n",
    "            combined_df = csv_df\r\n",
    "        else:\r\n",
    "            combined_df = combined_df.append(csv_df)\r\n",
    "    else:\r\n",
    "        print(file + \" not a csv\")"
   ],
   "outputs": [
    {
     "output_type": "stream",
     "name": "stdout",
     "text": [
      "citibike small data set.twbx not a csv\n",
      "combine_files.ipynb not a csv\n"
     ]
    }
   ],
   "metadata": {}
  },
  {
   "cell_type": "code",
   "execution_count": 4,
   "source": [
    "# Export to csv\r\n",
    "combined_df.to_csv(\"January_2018-2021_citibike_trip_data.csv\")"
   ],
   "outputs": [],
   "metadata": {}
  }
 ],
 "metadata": {
  "orig_nbformat": 4,
  "language_info": {
   "name": "python",
   "version": "3.7.9",
   "mimetype": "text/x-python",
   "codemirror_mode": {
    "name": "ipython",
    "version": 3
   },
   "pygments_lexer": "ipython3",
   "nbconvert_exporter": "python",
   "file_extension": ".py"
  },
  "kernelspec": {
   "name": "python3",
   "display_name": "Python 3.7.9 64-bit ('PythonData': conda)"
  },
  "interpreter": {
   "hash": "972b5e8961cf972370136eb15a5ce67c848ddf5ca1c37bd5b3d0153e753bc276"
  }
 },
 "nbformat": 4,
 "nbformat_minor": 2
}