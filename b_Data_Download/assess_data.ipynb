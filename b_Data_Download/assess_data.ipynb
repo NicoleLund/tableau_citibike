{
 "cells": [
  {
   "cell_type": "markdown",
   "source": [
    "# assess_data\r\n",
    "----\r\n",
    "\r\n",
    "Written in the Python 3.7.9 Environment\r\n",
    "\r\n",
    "By Nicole Lund \r\n",
    "\r\n",
    "This Jupyter Notebook reviews the header row for all of the downloaded csv files and looks for inconsistencies"
   ],
   "metadata": {}
  },
  {
   "cell_type": "code",
   "execution_count": 1,
   "source": [
    "#Import Dependencies\r\n",
    "import os\r\n",
    "import pandas as pd"
   ],
   "outputs": [],
   "metadata": {}
  },
  {
   "cell_type": "code",
   "execution_count": 2,
   "source": [
    "# Get list of files in the folder\r\n",
    "file_list = os.listdir()"
   ],
   "outputs": [],
   "metadata": {}
  },
  {
   "cell_type": "code",
   "execution_count": 3,
   "source": [
    "# Initialize empty dataframes\r\n",
    "df_1 = pd.DataFrame()\r\n",
    "df_2 = pd.DataFrame()\r\n",
    "df_3 = pd.DataFrame()"
   ],
   "outputs": [],
   "metadata": {}
  },
  {
   "cell_type": "code",
   "execution_count": 4,
   "source": [
    "# Collect header and first row of data for all csv files\r\n",
    "for file in file_list:\r\n",
    "    if file[-3:] == \"csv\":\r\n",
    "        csv_df = pd.read_csv(file,nrows=1)\r\n",
    "        csv_df['filename'] = file\r\n",
    "        if (df_1.size == 0):\r\n",
    "            df_1 = csv_df\r\n",
    "        elif (set(df_1.columns) == set(csv_df)):\r\n",
    "            df_1 = df_1.append(csv_df)\r\n",
    "        else:\r\n",
    "            if (df_2.size == 0):\r\n",
    "                df_2 = csv_df\r\n",
    "            elif (set(df_2.columns) == set(csv_df)):\r\n",
    "                df_2 = df_2.append(csv_df)\r\n",
    "            else:\r\n",
    "                if (df_3.size == 0):\r\n",
    "                    df_3 = csv_df\r\n",
    "                elif (set(df_3.columns) == set(csv_df)):\r\n",
    "                    df_3 = df_3.append(csv_df)\r\n",
    "                else:\r\n",
    "                    print('Not enough dataframes')\r\n",
    "    else:\r\n",
    "        print(file + \" not a csv\")"
   ],
   "outputs": [
    {
     "output_type": "stream",
     "name": "stdout",
     "text": [
      "assess_data.ipynb not a csv\n",
      "retrieve_data.ipynb not a csv\n",
      "__MACOSX not a csv\n"
     ]
    }
   ],
   "metadata": {}
  },
  {
   "cell_type": "code",
   "execution_count": 5,
   "source": [
    "df_1.info()"
   ],
   "outputs": [
    {
     "output_type": "stream",
     "name": "stdout",
     "text": [
      "<class 'pandas.core.frame.DataFrame'>\n",
      "Int64Index: 131 entries, 0 to 0\n",
      "Data columns (total 16 columns):\n",
      " #   Column                   Non-Null Count  Dtype  \n",
      "---  ------                   --------------  -----  \n",
      " 0   tripduration             131 non-null    int64  \n",
      " 1   starttime                131 non-null    object \n",
      " 2   stoptime                 131 non-null    object \n",
      " 3   start station id         131 non-null    int64  \n",
      " 4   start station name       131 non-null    object \n",
      " 5   start station latitude   131 non-null    float64\n",
      " 6   start station longitude  131 non-null    float64\n",
      " 7   end station id           131 non-null    int64  \n",
      " 8   end station name         131 non-null    object \n",
      " 9   end station latitude     131 non-null    float64\n",
      " 10  end station longitude    131 non-null    float64\n",
      " 11  bikeid                   131 non-null    int64  \n",
      " 12  usertype                 131 non-null    object \n",
      " 13  birth year               128 non-null    object \n",
      " 14  gender                   131 non-null    int64  \n",
      " 15  filename                 131 non-null    object \n",
      "dtypes: float64(4), int64(5), object(7)\n",
      "memory usage: 17.4+ KB\n"
     ]
    }
   ],
   "metadata": {}
  },
  {
   "cell_type": "code",
   "execution_count": 6,
   "source": [
    "df_2.info()"
   ],
   "outputs": [
    {
     "output_type": "stream",
     "name": "stdout",
     "text": [
      "<class 'pandas.core.frame.DataFrame'>\n",
      "Int64Index: 25 entries, 0 to 0\n",
      "Data columns (total 16 columns):\n",
      " #   Column                   Non-Null Count  Dtype  \n",
      "---  ------                   --------------  -----  \n",
      " 0   Trip Duration            25 non-null     int64  \n",
      " 1   Start Time               25 non-null     object \n",
      " 2   Stop Time                25 non-null     object \n",
      " 3   Start Station ID         25 non-null     int64  \n",
      " 4   Start Station Name       25 non-null     object \n",
      " 5   Start Station Latitude   25 non-null     float64\n",
      " 6   Start Station Longitude  25 non-null     float64\n",
      " 7   End Station ID           25 non-null     int64  \n",
      " 8   End Station Name         25 non-null     object \n",
      " 9   End Station Latitude     25 non-null     float64\n",
      " 10  End Station Longitude    25 non-null     float64\n",
      " 11  Bike ID                  25 non-null     int64  \n",
      " 12  User Type                25 non-null     object \n",
      " 13  Birth Year               25 non-null     int64  \n",
      " 14  Gender                   25 non-null     int64  \n",
      " 15  filename                 25 non-null     object \n",
      "dtypes: float64(4), int64(6), object(6)\n",
      "memory usage: 3.3+ KB\n"
     ]
    }
   ],
   "metadata": {}
  },
  {
   "cell_type": "code",
   "execution_count": 7,
   "source": [
    "df_3.info()"
   ],
   "outputs": [
    {
     "output_type": "stream",
     "name": "stdout",
     "text": [
      "<class 'pandas.core.frame.DataFrame'>\n",
      "Int64Index: 10 entries, 0 to 0\n",
      "Data columns (total 14 columns):\n",
      " #   Column              Non-Null Count  Dtype  \n",
      "---  ------              --------------  -----  \n",
      " 0   ride_id             10 non-null     object \n",
      " 1   rideable_type       10 non-null     object \n",
      " 2   started_at          10 non-null     object \n",
      " 3   ended_at            10 non-null     object \n",
      " 4   start_station_name  10 non-null     object \n",
      " 5   start_station_id    10 non-null     object \n",
      " 6   end_station_name    10 non-null     object \n",
      " 7   end_station_id      10 non-null     object \n",
      " 8   start_lat           10 non-null     float64\n",
      " 9   start_lng           10 non-null     float64\n",
      " 10  end_lat             10 non-null     float64\n",
      " 11  end_lng             10 non-null     float64\n",
      " 12  member_casual       10 non-null     object \n",
      " 13  filename            10 non-null     object \n",
      "dtypes: float64(4), object(10)\n",
      "memory usage: 1.2+ KB\n"
     ]
    }
   ],
   "metadata": {}
  },
  {
   "cell_type": "code",
   "execution_count": 9,
   "source": [
    "df_2.filename            "
   ],
   "outputs": [
    {
     "output_type": "execute_result",
     "data": {
      "text/plain": [
       "0       201610-citibike-tripdata.csv\n",
       "0       201611-citibike-tripdata.csv\n",
       "0       201612-citibike-tripdata.csv\n",
       "0       201701-citibike-tripdata.csv\n",
       "0       201702-citibike-tripdata.csv\n",
       "0       201703-citibike-tripdata.csv\n",
       "0    JC-201509-citibike-tripdata.csv\n",
       "0    JC-201510-citibike-tripdata.csv\n",
       "0    JC-201511-citibike-tripdata.csv\n",
       "0    JC-201512-citibike-tripdata.csv\n",
       "0    JC-201601-citibike-tripdata.csv\n",
       "0    JC-201602-citibike-tripdata.csv\n",
       "0    JC-201603-citibike-tripdata.csv\n",
       "0    JC-201604-citibike-tripdata.csv\n",
       "0    JC-201605-citibike-tripdata.csv\n",
       "0    JC-201606-citibike-tripdata.csv\n",
       "0    JC-201607-citibike-tripdata.csv\n",
       "0    JC-201608-citibike-tripdata.csv\n",
       "0    JC-201609-citibike-tripdata.csv\n",
       "0    JC-201610-citibike-tripdata.csv\n",
       "0    JC-201611-citibike-tripdata.csv\n",
       "0    JC-201612-citibike-tripdata.csv\n",
       "0    JC-201701-citibike-tripdata.csv\n",
       "0    JC-201702-citibike-tripdata.csv\n",
       "0    JC-201703-citibike-tripdata.csv\n",
       "Name: filename, dtype: object"
      ]
     },
     "metadata": {},
     "execution_count": 9
    }
   ],
   "metadata": {}
  },
  {
   "cell_type": "code",
   "execution_count": 10,
   "source": [
    "df_3.filename"
   ],
   "outputs": [
    {
     "output_type": "execute_result",
     "data": {
      "text/plain": [
       "0       202102-citibike-tripdata.csv\n",
       "0       202103-citibike-tripdata.csv\n",
       "0       202104-citibike-tripdata.csv\n",
       "0       202105-citibike-tripdata.csv\n",
       "0       202106-citibike-tripdata.csv\n",
       "0    JC-202102-citibike-tripdata.csv\n",
       "0    JC-202103-citibike-tripdata.csv\n",
       "0    JC-202104-citibike-tripdata.csv\n",
       "0    JC-202105-citibike-tripdata.csv\n",
       "0    JC-202106-citibike-tripdata.csv\n",
       "Name: filename, dtype: object"
      ]
     },
     "metadata": {},
     "execution_count": 10
    }
   ],
   "metadata": {}
  }
 ],
 "metadata": {
  "orig_nbformat": 4,
  "language_info": {
   "name": "python",
   "version": "3.7.9",
   "mimetype": "text/x-python",
   "codemirror_mode": {
    "name": "ipython",
    "version": 3
   },
   "pygments_lexer": "ipython3",
   "nbconvert_exporter": "python",
   "file_extension": ".py"
  },
  "kernelspec": {
   "name": "python3",
   "display_name": "Python 3.7.9 64-bit ('PythonData': conda)"
  },
  "interpreter": {
   "hash": "972b5e8961cf972370136eb15a5ce67c848ddf5ca1c37bd5b3d0153e753bc276"
  }
 },
 "nbformat": 4,
 "nbformat_minor": 2
}