{
 "cells": [
  {
   "cell_type": "markdown",
   "source": [
    "# assess_df1\r\n",
    "----\r\n",
    "\r\n",
    "Written in the Python 3.7.9 Environment\r\n",
    "\r\n",
    "By Nicole Lund \r\n",
    "\r\n",
    "This Jupyter Notebook reviews the header row for all of the downloaded csv files and looks for inconsistencies"
   ],
   "metadata": {}
  },
  {
   "cell_type": "code",
   "execution_count": 1,
   "source": [
    "#Import Dependencies\r\n",
    "import os\r\n",
    "import pandas as pd"
   ],
   "outputs": [],
   "metadata": {}
  },
  {
   "cell_type": "code",
   "execution_count": 2,
   "source": [
    "# Get list of files in the folder\r\n",
    "file_list = os.listdir()"
   ],
   "outputs": [],
   "metadata": {}
  },
  {
   "cell_type": "code",
   "execution_count": 3,
   "source": [
    "# Initialize empty dataframes\r\n",
    "df_1 = pd.DataFrame()\r\n",
    "df_2 = pd.DataFrame()\r\n",
    "df_3 = pd.DataFrame()"
   ],
   "outputs": [],
   "metadata": {}
  },
  {
   "cell_type": "code",
   "execution_count": 4,
   "source": [
    "# Collect header and first row of data for all csv files\r\n",
    "for file in file_list:\r\n",
    "    if file[-3:] == \"csv\":\r\n",
    "        csv_df = pd.read_csv(file,nrows=1)\r\n",
    "        csv_df['filename'] = file\r\n",
    "        if (df_1.size == 0):\r\n",
    "            df_1 = csv_df\r\n",
    "        elif (set(df_1.columns) == set(csv_df)):\r\n",
    "            df_1 = df_1.append(csv_df)\r\n",
    "        else:\r\n",
    "            if (df_2.size == 0):\r\n",
    "                df_2 = csv_df\r\n",
    "            elif (set(df_2.columns) == set(csv_df)):\r\n",
    "                df_2 = df_2.append(csv_df)\r\n",
    "            else:\r\n",
    "                if (df_3.size == 0):\r\n",
    "                    df_3 = csv_df\r\n",
    "                elif (set(df_3.columns) == set(csv_df)):\r\n",
    "                    df_3 = df_3.append(csv_df)\r\n",
    "                else:\r\n",
    "                    print('Not enough dataframes')\r\n",
    "    else:\r\n",
    "        print(file + \" not a csv\")"
   ],
   "outputs": [
    {
     "output_type": "stream",
     "name": "stdout",
     "text": [
      "assess_df1.ipynb not a csv\n"
     ]
    }
   ],
   "metadata": {}
  },
  {
   "cell_type": "code",
   "execution_count": 5,
   "source": [
    "df_1.info()"
   ],
   "outputs": [
    {
     "output_type": "stream",
     "name": "stdout",
     "text": [
      "<class 'pandas.core.frame.DataFrame'>\n",
      "Int64Index: 131 entries, 0 to 0\n",
      "Data columns (total 16 columns):\n",
      " #   Column                   Non-Null Count  Dtype  \n",
      "---  ------                   --------------  -----  \n",
      " 0   tripduration             131 non-null    int64  \n",
      " 1   starttime                131 non-null    object \n",
      " 2   stoptime                 131 non-null    object \n",
      " 3   start station id         131 non-null    int64  \n",
      " 4   start station name       131 non-null    object \n",
      " 5   start station latitude   131 non-null    float64\n",
      " 6   start station longitude  131 non-null    float64\n",
      " 7   end station id           131 non-null    int64  \n",
      " 8   end station name         131 non-null    object \n",
      " 9   end station latitude     131 non-null    float64\n",
      " 10  end station longitude    131 non-null    float64\n",
      " 11  bikeid                   131 non-null    int64  \n",
      " 12  usertype                 131 non-null    object \n",
      " 13  birth year               128 non-null    object \n",
      " 14  gender                   131 non-null    int64  \n",
      " 15  filename                 131 non-null    object \n",
      "dtypes: float64(4), int64(5), object(7)\n",
      "memory usage: 17.4+ KB\n"
     ]
    }
   ],
   "metadata": {}
  },
  {
   "cell_type": "code",
   "execution_count": 6,
   "source": [
    "df_2.info()"
   ],
   "outputs": [
    {
     "output_type": "stream",
     "name": "stdout",
     "text": [
      "<class 'pandas.core.frame.DataFrame'>\n",
      "Index: 0 entries\n",
      "Empty DataFrame"
     ]
    }
   ],
   "metadata": {}
  },
  {
   "cell_type": "code",
   "execution_count": 7,
   "source": [
    "df_3.info()"
   ],
   "outputs": [
    {
     "output_type": "stream",
     "name": "stdout",
     "text": [
      "<class 'pandas.core.frame.DataFrame'>\n",
      "Index: 0 entries\n",
      "Empty DataFrame"
     ]
    }
   ],
   "metadata": {}
  }
 ],
 "metadata": {
  "orig_nbformat": 4,
  "language_info": {
   "name": "python",
   "version": "3.7.9",
   "mimetype": "text/x-python",
   "codemirror_mode": {
    "name": "ipython",
    "version": 3
   },
   "pygments_lexer": "ipython3",
   "nbconvert_exporter": "python",
   "file_extension": ".py"
  },
  "kernelspec": {
   "name": "python3",
   "display_name": "Python 3.7.9 64-bit ('PythonData': conda)"
  },
  "interpreter": {
   "hash": "972b5e8961cf972370136eb15a5ce67c848ddf5ca1c37bd5b3d0153e753bc276"
  }
 },
 "nbformat": 4,
 "nbformat_minor": 2
}