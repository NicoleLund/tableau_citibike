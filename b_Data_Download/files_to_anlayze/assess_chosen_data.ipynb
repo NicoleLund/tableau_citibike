{
 "cells": [
  {
   "cell_type": "markdown",
   "source": [
    "# assess_chosen_data\r\n",
    "----\r\n",
    "\r\n",
    "Written in the Python 3.7.9 Environment\r\n",
    "\r\n",
    "By Nicole Lund \r\n",
    "\r\n",
    "This Jupyter Notebook reviews the header row for all of the downloaded csv files and looks for inconsistencies"
   ],
   "metadata": {}
  },
  {
   "cell_type": "code",
   "execution_count": 1,
   "source": [
    "#Import Dependencies\r\n",
    "import os\r\n",
    "import pandas as pd"
   ],
   "outputs": [],
   "metadata": {}
  },
  {
   "cell_type": "code",
   "execution_count": 2,
   "source": [
    "# Get list of files in the folder\r\n",
    "file_list = os.listdir()"
   ],
   "outputs": [],
   "metadata": {}
  },
  {
   "cell_type": "code",
   "execution_count": 3,
   "source": [
    "# Initialize empty dataframes\r\n",
    "chosen_data = pd.DataFrame()"
   ],
   "outputs": [],
   "metadata": {}
  },
  {
   "cell_type": "code",
   "execution_count": 4,
   "source": [
    "# Collect header and first row of data for all csv files\r\n",
    "for file in file_list:\r\n",
    "    if file[-3:] == \"csv\":\r\n",
    "        csv_df = pd.read_csv(file,nrows=1)\r\n",
    "        csv_df['filename'] = file\r\n",
    "        if (chosen_data.size == 0):\r\n",
    "            chosen_data = csv_df\r\n",
    "        elif (set(chosen_data.columns) == set(csv_df)):\r\n",
    "            chosen_data = chosen_data.append(csv_df)\r\n",
    "        else:\r\n",
    "            print('Not enough dataframes')\r\n",
    "    else:\r\n",
    "        print(file + \" not a csv\")"
   ],
   "outputs": [
    {
     "output_type": "stream",
     "name": "stdout",
     "text": [
      "assess_chosen_data.ipynb not a csv\n"
     ]
    }
   ],
   "metadata": {}
  },
  {
   "cell_type": "code",
   "execution_count": 5,
   "source": [
    "chosen_data.info()"
   ],
   "outputs": [
    {
     "output_type": "stream",
     "name": "stdout",
     "text": [
      "<class 'pandas.core.frame.DataFrame'>\n",
      "Int64Index: 24 entries, 0 to 0\n",
      "Data columns (total 16 columns):\n",
      " #   Column                   Non-Null Count  Dtype  \n",
      "---  ------                   --------------  -----  \n",
      " 0   tripduration             24 non-null     int64  \n",
      " 1   starttime                24 non-null     object \n",
      " 2   stoptime                 24 non-null     object \n",
      " 3   start station id         24 non-null     int64  \n",
      " 4   start station name       24 non-null     object \n",
      " 5   start station latitude   24 non-null     float64\n",
      " 6   start station longitude  24 non-null     float64\n",
      " 7   end station id           24 non-null     int64  \n",
      " 8   end station name         24 non-null     object \n",
      " 9   end station latitude     24 non-null     float64\n",
      " 10  end station longitude    24 non-null     float64\n",
      " 11  bikeid                   24 non-null     int64  \n",
      " 12  usertype                 24 non-null     object \n",
      " 13  birth year               24 non-null     int64  \n",
      " 14  gender                   24 non-null     int64  \n",
      " 15  filename                 24 non-null     object \n",
      "dtypes: float64(4), int64(6), object(6)\n",
      "memory usage: 3.2+ KB\n"
     ]
    }
   ],
   "metadata": {}
  },
  {
   "cell_type": "code",
   "execution_count": 6,
   "source": [
    "chosen_data.filename            "
   ],
   "outputs": [
    {
     "output_type": "execute_result",
     "data": {
      "text/plain": [
       "0    201801-citibike-tripdata.csv\n",
       "0    201802-citibike-tripdata.csv\n",
       "0    201803-citibike-tripdata.csv\n",
       "0    201804-citibike-tripdata.csv\n",
       "0    201805-citibike-tripdata.csv\n",
       "0    201806-citibike-tripdata.csv\n",
       "0    201807-citibike-tripdata.csv\n",
       "0    201808-citibike-tripdata.csv\n",
       "0    201809-citibike-tripdata.csv\n",
       "0    201810-citibike-tripdata.csv\n",
       "0    201811-citibike-tripdata.csv\n",
       "0    201812-citibike-tripdata.csv\n",
       "0    201901-citibike-tripdata.csv\n",
       "0    201902-citibike-tripdata.csv\n",
       "0    201903-citibike-tripdata.csv\n",
       "0    201904-citibike-tripdata.csv\n",
       "0    201905-citibike-tripdata.csv\n",
       "0    201906-citibike-tripdata.csv\n",
       "0    201907-citibike-tripdata.csv\n",
       "0    201908-citibike-tripdata.csv\n",
       "0    201909-citibike-tripdata.csv\n",
       "0    201910-citibike-tripdata.csv\n",
       "0    201911-citibike-tripdata.csv\n",
       "0    201912-citibike-tripdata.csv\n",
       "Name: filename, dtype: object"
      ]
     },
     "metadata": {},
     "execution_count": 6
    }
   ],
   "metadata": {}
  }
 ],
 "metadata": {
  "orig_nbformat": 4,
  "language_info": {
   "name": "python",
   "version": "3.7.9",
   "mimetype": "text/x-python",
   "codemirror_mode": {
    "name": "ipython",
    "version": 3
   },
   "pygments_lexer": "ipython3",
   "nbconvert_exporter": "python",
   "file_extension": ".py"
  },
  "kernelspec": {
   "name": "python3",
   "display_name": "Python 3.7.9 64-bit ('PythonData': conda)"
  },
  "interpreter": {
   "hash": "972b5e8961cf972370136eb15a5ce67c848ddf5ca1c37bd5b3d0153e753bc276"
  }
 },
 "nbformat": 4,
 "nbformat_minor": 2
}