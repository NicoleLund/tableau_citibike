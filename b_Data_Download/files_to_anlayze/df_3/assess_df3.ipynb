{
 "cells": [
  {
   "cell_type": "markdown",
   "source": [
    "# assess_df3\r\n",
    "----\r\n",
    "\r\n",
    "Written in the Python 3.7.9 Environment\r\n",
    "\r\n",
    "By Nicole Lund \r\n",
    "\r\n",
    "This Jupyter Notebook reviews the header row for all of the downloaded csv files and looks for inconsistencies"
   ],
   "metadata": {}
  },
  {
   "cell_type": "code",
   "execution_count": 1,
   "source": [
    "#Import Dependencies\r\n",
    "import os\r\n",
    "import pandas as pd"
   ],
   "outputs": [],
   "metadata": {}
  },
  {
   "cell_type": "code",
   "execution_count": 2,
   "source": [
    "# Get list of files in the folder\r\n",
    "file_list = os.listdir()"
   ],
   "outputs": [],
   "metadata": {}
  },
  {
   "cell_type": "code",
   "execution_count": 3,
   "source": [
    "# Initialize empty dataframes\r\n",
    "df_3 = pd.DataFrame()"
   ],
   "outputs": [],
   "metadata": {}
  },
  {
   "cell_type": "code",
   "execution_count": 4,
   "source": [
    "# Collect header and first row of data for all csv files\r\n",
    "for file in file_list:\r\n",
    "    if file[-3:] == \"csv\":\r\n",
    "        csv_df = pd.read_csv(file,nrows=1)\r\n",
    "        csv_df['filename'] = file\r\n",
    "        if (df_3.size == 0):\r\n",
    "            df_3 = csv_df\r\n",
    "        elif (set(df_3.columns) == set(csv_df)):\r\n",
    "            df_3 = df_3.append(csv_df)\r\n",
    "        else:\r\n",
    "            print('Not enough dataframes')\r\n",
    "    else:\r\n",
    "        print(file + \" not a csv\")"
   ],
   "outputs": [
    {
     "output_type": "stream",
     "name": "stdout",
     "text": [
      "assess_df3.ipynb not a csv\n"
     ]
    }
   ],
   "metadata": {}
  },
  {
   "cell_type": "code",
   "execution_count": 5,
   "source": [
    "df_3.info()"
   ],
   "outputs": [
    {
     "output_type": "stream",
     "name": "stdout",
     "text": [
      "<class 'pandas.core.frame.DataFrame'>\n",
      "Int64Index: 10 entries, 0 to 0\n",
      "Data columns (total 14 columns):\n",
      " #   Column              Non-Null Count  Dtype  \n",
      "---  ------              --------------  -----  \n",
      " 0   ride_id             10 non-null     object \n",
      " 1   rideable_type       10 non-null     object \n",
      " 2   started_at          10 non-null     object \n",
      " 3   ended_at            10 non-null     object \n",
      " 4   start_station_name  10 non-null     object \n",
      " 5   start_station_id    10 non-null     object \n",
      " 6   end_station_name    10 non-null     object \n",
      " 7   end_station_id      10 non-null     object \n",
      " 8   start_lat           10 non-null     float64\n",
      " 9   start_lng           10 non-null     float64\n",
      " 10  end_lat             10 non-null     float64\n",
      " 11  end_lng             10 non-null     float64\n",
      " 12  member_casual       10 non-null     object \n",
      " 13  filename            10 non-null     object \n",
      "dtypes: float64(4), object(10)\n",
      "memory usage: 1.2+ KB\n"
     ]
    }
   ],
   "metadata": {}
  }
 ],
 "metadata": {
  "orig_nbformat": 4,
  "language_info": {
   "name": "python",
   "version": "3.7.9",
   "mimetype": "text/x-python",
   "codemirror_mode": {
    "name": "ipython",
    "version": 3
   },
   "pygments_lexer": "ipython3",
   "nbconvert_exporter": "python",
   "file_extension": ".py"
  },
  "kernelspec": {
   "name": "python3",
   "display_name": "Python 3.7.9 64-bit ('PythonData': conda)"
  },
  "interpreter": {
   "hash": "972b5e8961cf972370136eb15a5ce67c848ddf5ca1c37bd5b3d0153e753bc276"
  }
 },
 "nbformat": 4,
 "nbformat_minor": 2
}